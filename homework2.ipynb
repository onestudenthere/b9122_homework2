{
 "cells": [
  {
   "cell_type": "code",
   "execution_count": 60,
   "id": "4695158f",
   "metadata": {},
   "outputs": [],
   "source": [
    "from bs4 import BeautifulSoup\n",
    "import urllib.request\n",
    "\n",
    "\n",
    "seed_url = \"https://press.un.org/en\"\n",
    "keyword = \"crisis\"\n",
    "press_url_pool = []\n",
    "need_url = dict()\n",
    "\n",
    "\n",
    "minNeedNumUrl = 10\n",
    "req = urllib.request.Request(seed_url,headers={'User-Agent': 'Mozilla/5.0'})\n",
    "webpage = urllib.request.urlopen(req).read()\n",
    "soup = BeautifulSoup(webpage)  #creates object soup\n",
    "for tag in soup.find_all('a', href = True): #find tags with links\n",
    "    childUrl = tag['href']\n",
    "    if (\"press-release\" not in childUrl):\n",
    "        continue\n",
    "    o_childurl = childUrl\n",
    "    childUrl = urllib.parse.urljoin(seed_url, childUrl)\n",
    "    press_url_pool.append(childUrl)\n",
    "pageNum = 1\n",
    "\n",
    "    \n"
   ]
  },
  {
   "cell_type": "code",
   "execution_count": 61,
   "id": "612cd89f",
   "metadata": {},
   "outputs": [
    {
     "name": "stdout",
     "output_type": "stream",
     "text": [
      "visting en url =  https://press.un.org/en/2023/sgsm21950.doc.htm\n",
      "visting en url =  https://press.un.org/en/2023/sgsm21932.doc.htm\n",
      "visting en url =  https://press.un.org/en/2023/sgsm21878.doc.htm\n",
      "visting en url =  https://press.un.org/en/2023/sgsm21872.doc.htm\n",
      "visting en url =  https://press.un.org/en/2023/sgsm21862.doc.htm\n",
      "visting en url =  https://press.un.org/en/2023/sgsm21807.doc.htm\n",
      "visting en url =  https://press.un.org/en/2023/sgsm21784.doc.htm\n",
      "visting en url =  https://press.un.org/en/2023/sgsm21782.doc.htm\n",
      "visting en url =  https://press.un.org/en/2023/sgsm21765.doc.htm\n",
      "visting en url =  https://press.un.org/en/2022/sgsm21629.doc.htm\n"
     ]
    }
   ],
   "source": [
    "while len(need_url)<minNeedNumUrl:\n",
    "    try:\n",
    "        url = press_url_pool[0]+\"?page=\"+str(pageNum)\n",
    "        pageNum+=1\n",
    "        req = urllib.request.Request(url,headers={'User-Agent': 'Mozilla/5.0'})\n",
    "        webpage = urllib.request.urlopen(req).read()\n",
    "        soup = BeautifulSoup(webpage)\n",
    "    except:\n",
    "        press_url_pool.pop(0) \n",
    "        pageNum = 1\n",
    "\n",
    "    if(len(need_url)>minNeedNumUrl):\n",
    "        break\n",
    "    for tag in soup.find_all('a', href = True): #find tags with links\n",
    "        childUrl = tag['href']\n",
    "        if \"crisis\" not in tag.text.lower():\n",
    "            continue\n",
    "        o_childurl = childUrl\n",
    "        childUrl = urllib.parse.urljoin(seed_url, childUrl)\n",
    "        print(\"visting\",tag['hreflang'],\"url = \",childUrl)\n",
    "        need_url[tag.text]=(childUrl)\n"
   ]
  },
  {
   "cell_type": "code",
   "execution_count": 62,
   "id": "0c7b1f18",
   "metadata": {},
   "outputs": [
    {
     "data": {
      "text/plain": [
       "{'Calling for Creative, Practical Financing Solutions, Secretary-General Tells High-Level Dialogue ‘We Must Turn This Moment of Crisis’ into Opportunity': 'https://press.un.org/en/2023/sgsm21950.doc.htm',\n",
       " 'Marking International Day amidst People and Planet in Crisis, Secretary-General Stresses ‘Peace Is the Result of Action’ ': 'https://press.un.org/en/2023/sgsm21932.doc.htm',\n",
       " 'Amid Global Education Crisis, Secretary-General Stresses Need to Overhaul Learning Systems, Expand Support for Teachers, in Message for World Youth Skills Day Event': 'https://press.un.org/en/2023/sgsm21878.doc.htm',\n",
       " 'Warning ‘Time Is Up for 3.3 Billion People’, Secretary-General Urges Deep Financial System Reforms to tackle Unfolding Public Debt Crisis, at Report Launch ': 'https://press.un.org/en/2023/sgsm21872.doc.htm',\n",
       " 'Cooperation, Unity Key to Managing Climate Crisis, Technological Challenges, Secretary-General Tells Shanghai Cooperation Organization': 'https://press.un.org/en/2023/sgsm21862.doc.htm',\n",
       " '‘Crisis atop Crisis’ Threatening Millions of Lives in Horn of Africa, Secretary-General Tells Pledging Event, Calling for Increased Humanitarian Aid to Prevent Catastrophe': 'https://press.un.org/en/2023/sgsm21807.doc.htm',\n",
       " '‘We Know the Truth’ about Climate Crisis, Secretary-General Tells Petersberg Dialogue, Urging States Accelerate Net-Zero Deadlines': 'https://press.un.org/en/2023/sgsm21784.doc.htm',\n",
       " 'Given Rapidly Deteriorating Humanitarian Crisis in Sudan, Secretary-General Announces Sending Emergency Relief Coordinator to Region Immediately': 'https://press.un.org/en/2023/sgsm21782.doc.htm',\n",
       " '‘No Time to Lose’ for Closing Finance Divide, as Multifaceted Crisis Devastates World’s Poorest Countries, Secretary-General Tells Economic and Social Council Forum': 'https://press.un.org/en/2023/sgsm21765.doc.htm',\n",
       " '‘There Is No Migration Crisis’, Only Crisis of Solidarity, Secretary-General Says on International Day, Acknowledging 51,000 Migrants Who Died Seeking Better Life': 'https://press.un.org/en/2022/sgsm21629.doc.htm'}"
      ]
     },
     "execution_count": 62,
     "metadata": {},
     "output_type": "execute_result"
    }
   ],
   "source": [
    "need_url"
   ]
  }
 ],
 "metadata": {
  "kernelspec": {
   "display_name": "Python 3 (ipykernel)",
   "language": "python",
   "name": "python3"
  },
  "language_info": {
   "codemirror_mode": {
    "name": "ipython",
    "version": 3
   },
   "file_extension": ".py",
   "mimetype": "text/x-python",
   "name": "python",
   "nbconvert_exporter": "python",
   "pygments_lexer": "ipython3",
   "version": "3.10.9"
  }
 },
 "nbformat": 4,
 "nbformat_minor": 5
}
